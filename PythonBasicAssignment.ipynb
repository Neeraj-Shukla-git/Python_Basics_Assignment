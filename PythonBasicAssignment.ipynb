{
  "cells": [
    {
      "cell_type": "markdown",
      "metadata": {
        "id": "0F59OK2kOzLA"
      },
      "source": [
        "**Python Basics**"
      ]
    },
    {
      "cell_type": "markdown",
      "metadata": {
        "id": "M8J_IIlCPBp6"
      },
      "source": [
        "1. What is Python, and why is it popular?\n",
        "   - Python is high-level, interpreted programming language that is easy to\n",
        "     understand and write.\n",
        "   - Easy to learn & Readable, Versatile & Powerful, large Community & Support,\n",
        "     Cross-Platform & Extensive Libraries.  \n"
      ]
    },
    {
      "cell_type": "markdown",
      "metadata": {
        "id": "ZsLjO_X-Q5W0"
      },
      "source": [
        "2. What is an interpreter in Python?\n",
        "   - An interpreter in Python means program that reads and executes python code\n",
        "     line by line."
      ]
    },
    {
      "cell_type": "markdown",
      "metadata": {
        "id": "LGpvPBtxR6up"
      },
      "source": [
        "3. What are pre-defined keywords in Python?\n",
        "   - Pre-defined keywords is reserved keyword in python that has\n",
        "     special meaning i.e if, else, True, False None etc.\n",
        "     "
      ]
    },
    {
      "cell_type": "markdown",
      "source": [
        "4. Can keywords be used as variable names?\n",
        "   - keyword is not used as variable name."
      ],
      "metadata": {
        "id": "_OidbfcqJVeV"
      }
    },
    {
      "cell_type": "markdown",
      "source": [
        "5. What is mutability in Python?\n",
        "   - Mutability in python refers to an objects value can be changed after it is\n",
        "     created."
      ],
      "metadata": {
        "id": "hXFGxXj1KN1U"
      }
    },
    {
      "cell_type": "markdown",
      "source": [
        "6. Why are lists mutable, but tuples are immutable?\n",
        "   - Lists in python are mutable because they are designed to store a  \n",
        "collection of items where the values can be changed, updated, added or removed after the list is created.\n",
        "   - Tuples are immutable because they are designed to store collection of  \n",
        "     items a fixed they should not changed."
      ],
      "metadata": {
        "id": "NDc3icjHLiyM"
      }
    },
    {
      "cell_type": "markdown",
      "source": [
        "7. What is the difference between “==” and “is” operators in Python?\n",
        "   -  \"==\" it checks if the value of two variable are equal and it does not\n",
        "      check whether they stored in the same memory.\n",
        "   -  \"is\" it checks if two variable refers to the same object in memory.Even  \n",
        "      if the value are same, if the objects are stored separately"
      ],
      "metadata": {
        "id": "ZY6lx-oEMf4_"
      }
    },
    {
      "cell_type": "markdown",
      "source": [
        "8. What are logical operators in Python?\n",
        "   - and Operator - Return True only if both conditions are True otherwise it\n",
        "     returns False.\n",
        "   - or Operator - Returns True if any one condition are True, return False if\n",
        "     both conditions are False.\n",
        "   - not Operator - If condition is True return False and condition is True\n",
        "     Return False."
      ],
      "metadata": {
        "id": "CF7VRkSxNsi7"
      }
    },
    {
      "cell_type": "markdown",
      "source": [
        "9. What is type casting in Python?\n",
        "   - type casting in python means converting one data type into another data\n",
        "     type."
      ],
      "metadata": {
        "id": "q379ZRxwOnTV"
      }
    },
    {
      "cell_type": "markdown",
      "source": [
        "10. What is the difference between implicit and explicit type casting?\n",
        "    - implict type casting - Done automatically by python and converts smaller\n",
        "      data types to larger ones.\n",
        "    - explicit type casting - Done manually by the programmer using function\n",
        "      i.e int(), float(), str()"
      ],
      "metadata": {
        "id": "4JV7GynfPIri"
      }
    },
    {
      "cell_type": "markdown",
      "source": [
        "11. What is the purpose of conditional statements in Python?\n",
        "    - The purpose of a conditional statements in python is to control the flow\n",
        "      of a program based on a certain conditions."
      ],
      "metadata": {
        "id": "jbAVo5nRWwMM"
      }
    },
    {
      "cell_type": "markdown",
      "source": [
        "12. How does the elif statement work?\n",
        "    - elif stans for else if\n",
        "    - It is used when you want to check multiple conditions."
      ],
      "metadata": {
        "id": "IwLyt2oeXan3"
      }
    },
    {
      "cell_type": "markdown",
      "source": [
        "13. What is the difference between for and while loops?\n",
        "    - for loop - When you know how many times to repeat\n",
        "    - while loop - When you want to repeat until a condition changes."
      ],
      "metadata": {
        "id": "haFiBe8xX24r"
      }
    },
    {
      "cell_type": "markdown",
      "source": [
        "14. Describe a scenario where a while loop is more suitable than a for loop?\n",
        "    - Imagine you are creating a simple login system where a user has to enter\n",
        "      the correct password to access the system.\n",
        "    - A for loop is not sutiable here because you can't pre define the number  \n",
        "      of attempts a user will take."
      ],
      "metadata": {
        "id": "uELIC6fTYYCU"
      }
    },
    {
      "cell_type": "markdown",
      "metadata": {
        "id": "KBDFUYikSn6n"
      },
      "source": [
        "**Practial Questions**\n"
      ]
    },
    {
      "cell_type": "markdown",
      "metadata": {
        "id": "KjhC0OpnS3T2"
      },
      "source": [
        "1. Write a Python program to print \"Hello, World!"
      ]
    },
    {
      "cell_type": "code",
      "execution_count": null,
      "metadata": {
        "colab": {
          "base_uri": "https://localhost:8080/"
        },
        "id": "aVumcEMMS_EK",
        "outputId": "97fd598b-7d17-4537-8736-34d471a218bb"
      },
      "outputs": [
        {
          "output_type": "stream",
          "name": "stdout",
          "text": [
            "Hello, World!\n"
          ]
        }
      ],
      "source": [
        "print(\"Hello, World!\")"
      ]
    },
    {
      "cell_type": "markdown",
      "metadata": {
        "id": "4YY5kOFuTKEP"
      },
      "source": [
        "2. Write a Python program that displays your name and age."
      ]
    },
    {
      "cell_type": "code",
      "execution_count": null,
      "metadata": {
        "colab": {
          "base_uri": "https://localhost:8080/"
        },
        "id": "TdZqKoIOTTQ4",
        "outputId": "5beadc96-62f8-407a-aaec-8aced91caf54"
      },
      "outputs": [
        {
          "output_type": "stream",
          "name": "stdout",
          "text": [
            "My Name is Neeraj Shukla and age is 24.\n"
          ]
        }
      ],
      "source": [
        "name = \"Neeraj Shukla\"\n",
        "age = 24\n",
        "print(f\"My Name is {name} and age is {age}.\")"
      ]
    },
    {
      "cell_type": "markdown",
      "metadata": {
        "id": "Y6u41U8VTgOH"
      },
      "source": [
        "3. Write code to print all the pre-defined keywords in Python using the keyword library."
      ]
    },
    {
      "cell_type": "code",
      "execution_count": null,
      "metadata": {
        "colab": {
          "background_save": true
        },
        "id": "UF6LVTbTTntx",
        "outputId": "a848db7c-3acb-49b3-87b3-90686005fbca"
      },
      "outputs": [
        {
          "name": "stdout",
          "output_type": "stream",
          "text": [
            "\n",
            "Here is a list of the Python keywords.  Enter any keyword to get more help.\n",
            "\n",
            "False               class               from                or\n",
            "None                continue            global              pass\n",
            "True                def                 if                  raise\n",
            "and                 del                 import              return\n",
            "as                  elif                in                  try\n",
            "assert              else                is                  while\n",
            "async               except              lambda              with\n",
            "await               finally             nonlocal            yield\n",
            "break               for                 not                 \n",
            "\n"
          ]
        }
      ],
      "source": [
        "help(\"keywords\")"
      ]
    },
    {
      "cell_type": "markdown",
      "metadata": {
        "id": "tZ2ptc47VUTW"
      },
      "source": [
        "4. Write a program that checks if a given word is a Python keyword."
      ]
    },
    {
      "cell_type": "code",
      "execution_count": null,
      "metadata": {
        "id": "m-gAJ3uMVZij",
        "colab": {
          "base_uri": "https://localhost:8080/"
        },
        "outputId": "af87316e-7fae-4c99-b7bc-517d3ebd1b4d"
      },
      "outputs": [
        {
          "output_type": "stream",
          "name": "stdout",
          "text": [
            "Enter the keyword: None\n",
            "None is python keyword.\n"
          ]
        }
      ],
      "source": [
        "import keyword\n",
        "\n",
        "keywords = input(\"Enter the keyword: \")\n",
        "\n",
        "if (keywords  in keyword.kwlist):\n",
        "  print(f\"{keywords} is python keyword.\")\n",
        "else:\n",
        "  print(f\"{keywords} is not a python keyword.\")"
      ]
    },
    {
      "cell_type": "markdown",
      "metadata": {
        "id": "2wylX_yEVarD"
      },
      "source": [
        "5. Create a list and tuple in Python, and demonstrate how attempting to change an element works differently\n",
        "for each."
      ]
    },
    {
      "cell_type": "code",
      "execution_count": null,
      "metadata": {
        "id": "um__wMwEVgNz",
        "colab": {
          "base_uri": "https://localhost:8080/"
        },
        "outputId": "a5cfbbd5-db71-45a1-a640-c372770c85dd"
      },
      "outputs": [
        {
          "output_type": "stream",
          "name": "stdout",
          "text": [
            "[1, 2, 3, 4, 5]\n",
            "[0, 2, 3, 4, 5]\n",
            "(1, 2, 3, 4, 5)\n",
            "(1, 2, 3, 4, 5)\n"
          ]
        }
      ],
      "source": [
        "list = [1, 2, 3, 4, 5]\n",
        "print(list)\n",
        "list[0] = 0\n",
        "print(list)    # List is a mutable\n"
      ]
    },
    {
      "cell_type": "code",
      "source": [
        "tuple = (1, 2, 3, 4, 5)\n",
        "print(tuple)\n",
        "# tuple[0] = 0    # Show Error\n",
        "print(tuple)   # Tuple is an immutable"
      ],
      "metadata": {
        "colab": {
          "base_uri": "https://localhost:8080/"
        },
        "id": "GX52FVCGaCod",
        "outputId": "9bceb4c4-bfbc-4ee6-9c5e-319f0f061f0a"
      },
      "execution_count": null,
      "outputs": [
        {
          "output_type": "stream",
          "name": "stdout",
          "text": [
            "(1, 2, 3, 4, 5)\n",
            "(1, 2, 3, 4, 5)\n"
          ]
        }
      ]
    },
    {
      "cell_type": "markdown",
      "metadata": {
        "id": "oeoO-6ZcVg1y"
      },
      "source": [
        "6. Write a function to demonstrate the behavior of mutable and immutable arguments."
      ]
    },
    {
      "cell_type": "code",
      "execution_count": null,
      "metadata": {
        "id": "eyVZkO71Vka5",
        "colab": {
          "base_uri": "https://localhost:8080/"
        },
        "outputId": "194fa5e3-5ec5-4019-90f9-6763d04c69e8"
      },
      "outputs": [
        {
          "output_type": "stream",
          "name": "stdout",
          "text": [
            "[1, 2, 3, 4, 5]\n",
            "[0, 2, 3, 4, 5]\n"
          ]
        }
      ],
      "source": [
        "list = [1, 2, 3, 4, 5]\n",
        "print(list)\n",
        "list[0] = 0\n",
        "print(list)\n",
        "# The behaviour of list is a mutable because it can be changed after create a list.\n",
        "\n"
      ]
    },
    {
      "cell_type": "code",
      "source": [
        "tuple = (1, 2, 3, 4, 5)\n",
        "print(tuple)\n",
        "# tuple[0] = 0     # Show Error\n",
        "print(tuple)\n",
        "# # The behaviour of tuple is an immutable because it can not be changed after create a tuple."
      ],
      "metadata": {
        "colab": {
          "base_uri": "https://localhost:8080/"
        },
        "id": "nHYhFQAXaetI",
        "outputId": "3ccbef6f-c7ee-4359-d189-4f7164ddaaec"
      },
      "execution_count": null,
      "outputs": [
        {
          "output_type": "stream",
          "name": "stdout",
          "text": [
            "(1, 2, 3, 4, 5)\n",
            "(1, 2, 3, 4, 5)\n"
          ]
        }
      ]
    },
    {
      "cell_type": "markdown",
      "metadata": {
        "id": "7vSf45ObVncY"
      },
      "source": [
        "7. Write a program that performs basic arithmetic operations on two user-input numbers."
      ]
    },
    {
      "cell_type": "code",
      "execution_count": null,
      "metadata": {
        "id": "3qzApPgvVovO",
        "colab": {
          "base_uri": "https://localhost:8080/"
        },
        "outputId": "b82013eb-4d93-429e-bcef-1a8c922f1788"
      },
      "outputs": [
        {
          "output_type": "stream",
          "name": "stdout",
          "text": [
            "Enter the first number: 10\n",
            "Enter the second number: 10\n",
            "The sum of 10.0 & 10.0 is 20.0.\n"
          ]
        }
      ],
      "source": [
        "user1 = float(input(\"Enter the first number: \"))\n",
        "user2 = float(input(\"Enter the second number: \"))\n",
        "user =  user1 + user2\n",
        "print(f\"The sum of {user1} & {user2} is {user}.\")"
      ]
    },
    {
      "cell_type": "markdown",
      "metadata": {
        "id": "gHNVw_XmVr-d"
      },
      "source": [
        "8. Write a program to demonstrate the use of logical operators."
      ]
    },
    {
      "cell_type": "code",
      "execution_count": null,
      "metadata": {
        "id": "gUYNAQueVtNx",
        "colab": {
          "base_uri": "https://localhost:8080/"
        },
        "outputId": "aa8ea43a-93f1-444a-a870-c09e8ed2b18b"
      },
      "outputs": [
        {
          "output_type": "stream",
          "name": "stdout",
          "text": [
            "Enter the age: 18\n",
            "Enter the student class: 10\n",
            "Adult but not eligible for graduation\n"
          ]
        }
      ],
      "source": [
        "# and operator\n",
        "\n",
        "age = int(input(\"Enter the age: \"))\n",
        "student = int(input(\"Enter the student class: \"))\n",
        "\n",
        "if ((age >= 18) and (student > 12)):\n",
        "  print(\"Adult and eligible for graduation\")\n",
        "elif ((age >= 18) and (student < 12)):\n",
        "  print(\"Adult but not eligible for graduation\")\n",
        "else:\n",
        "  print(\"No Adult and not eligible for graduation.\")"
      ]
    },
    {
      "cell_type": "markdown",
      "metadata": {
        "id": "hb-QvOFBVxFz"
      },
      "source": [
        "9. Write a Python program to convert user input from string to integer, float, and boolean types."
      ]
    },
    {
      "cell_type": "code",
      "execution_count": null,
      "metadata": {
        "id": "yq9LKg5PV2Jm",
        "colab": {
          "base_uri": "https://localhost:8080/"
        },
        "outputId": "43b2a42b-2954-49a0-cee3-d6207d53f8c0"
      },
      "outputs": [
        {
          "output_type": "stream",
          "name": "stdout",
          "text": [
            "Enter the string: 12\n",
            "12\n"
          ]
        }
      ],
      "source": [
        "a = input(\"Enter the string: \")\n",
        "integer = int(a)\n",
        "print(integer)\n"
      ]
    },
    {
      "cell_type": "code",
      "source": [
        "b = input(\"Enter the string: \")\n",
        "float = float(b)\n",
        "print(float)"
      ],
      "metadata": {
        "colab": {
          "base_uri": "https://localhost:8080/"
        },
        "id": "kLVPFS14z_Ui",
        "outputId": "c10840ad-de13-46ab-d17b-df60dd6688bb"
      },
      "execution_count": null,
      "outputs": [
        {
          "output_type": "stream",
          "name": "stdout",
          "text": [
            "Enter the string: 12\n",
            "12.0\n"
          ]
        }
      ]
    },
    {
      "cell_type": "code",
      "source": [
        "a = input(\"Enter the string: \")\n",
        "boolean = bool(a)\n",
        "print(boolean)"
      ],
      "metadata": {
        "colab": {
          "base_uri": "https://localhost:8080/"
        },
        "id": "Gi82OEou0XMq",
        "outputId": "fded3a91-ab1e-4cb6-fdfa-9cf7979e67c6"
      },
      "execution_count": null,
      "outputs": [
        {
          "output_type": "stream",
          "name": "stdout",
          "text": [
            "Enter the string: qq\n",
            "True\n"
          ]
        }
      ]
    },
    {
      "cell_type": "markdown",
      "metadata": {
        "id": "k4uxybrdV22Q"
      },
      "source": [
        "10. Write code to demonstrate type casting with list elements."
      ]
    },
    {
      "cell_type": "code",
      "execution_count": null,
      "metadata": {
        "id": "5Xw9_YegV6mx",
        "colab": {
          "base_uri": "https://localhost:8080/"
        },
        "outputId": "e2691524-b5a2-42d1-e0f2-57680f30ccbc"
      },
      "outputs": [
        {
          "output_type": "stream",
          "name": "stdout",
          "text": [
            "[1, 'Neeraj', '2', True, None, (2+3j)]\n",
            "<class 'int'>\n",
            "<class 'str'>\n",
            "<class 'str'>\n",
            "<class 'bool'>\n",
            "<class 'NoneType'>\n",
            "<class 'complex'>\n"
          ]
        }
      ],
      "source": [
        "list = [1, \"Neeraj\", \"2\", True, None, 2+3j]\n",
        "print(list)\n",
        "print(type(list[0]))\n",
        "print(type(list[1]))\n",
        "print(type(list[2]))\n",
        "print(type(list[3]))\n",
        "print(type(list[4]))\n",
        "print(type(list[5]))\n",
        "\n",
        "\n",
        "\n"
      ]
    },
    {
      "cell_type": "markdown",
      "metadata": {
        "id": "XPoVzMuDV8Rr"
      },
      "source": [
        "11. Write a program that checks if a number is positive, negative, or zero."
      ]
    },
    {
      "cell_type": "code",
      "execution_count": null,
      "metadata": {
        "id": "ydby7e9BWIdz",
        "colab": {
          "base_uri": "https://localhost:8080/"
        },
        "outputId": "09997b84-e8a9-48c2-c16c-d7a6cc5b2cd1"
      },
      "outputs": [
        {
          "output_type": "stream",
          "name": "stdout",
          "text": [
            "Enter the number: 0\n",
            "0.0 is a Zero.\n"
          ]
        }
      ],
      "source": [
        "number = float(input(\"Enter the number: \"))\n",
        "\n",
        "if (number > 0 ):\n",
        "  print(f\"{number} is a positive number.\")\n",
        "elif (number < 0 ):\n",
        "  print(f\"{number} is a negative number.\")\n",
        "else:\n",
        "  print(f\"{number} is a Zero.\")"
      ]
    },
    {
      "cell_type": "markdown",
      "source": [
        "12. Write a for loop to print numbers from 1 to 10.\n"
      ],
      "metadata": {
        "id": "k_sRhL8eg1H5"
      }
    },
    {
      "cell_type": "code",
      "source": [
        "for i in range(1, 11):\n",
        "  print(i)"
      ],
      "metadata": {
        "colab": {
          "base_uri": "https://localhost:8080/"
        },
        "id": "hOEMjP6JgzEB",
        "outputId": "1224c7a7-db6f-446a-e9ee-42d39ce485a0"
      },
      "execution_count": null,
      "outputs": [
        {
          "output_type": "stream",
          "name": "stdout",
          "text": [
            "1\n",
            "2\n",
            "3\n",
            "4\n",
            "5\n",
            "6\n",
            "7\n",
            "8\n",
            "9\n",
            "10\n"
          ]
        }
      ]
    },
    {
      "cell_type": "markdown",
      "source": [
        "13. Write a Python program to find the sum of all even numbers between 1 and 50."
      ],
      "metadata": {
        "id": "LOhK9k7ehCOb"
      }
    },
    {
      "cell_type": "code",
      "source": [
        "i = 0\n",
        "n = 50\n",
        "sum = 0\n",
        "\n",
        "while(i <= n):\n",
        "  sum = sum + i\n",
        "  i = i + 2\n",
        "print(f\"{sum} is a sum all even number.\")\n",
        "\n"
      ],
      "metadata": {
        "colab": {
          "base_uri": "https://localhost:8080/"
        },
        "id": "cwCxf7_JhIm3",
        "outputId": "c8a7c2fe-701a-4d63-af49-7cd24682e4ce"
      },
      "execution_count": null,
      "outputs": [
        {
          "output_type": "stream",
          "name": "stdout",
          "text": [
            "650 is a sum all even number.\n"
          ]
        }
      ]
    },
    {
      "cell_type": "markdown",
      "source": [
        "14. Write a program to reverse a string using a while loop."
      ],
      "metadata": {
        "id": "USPVv02ohI8U"
      }
    },
    {
      "cell_type": "code",
      "source": [
        "string = \"Neeraj\"\n",
        "reverse_string = \"\"\n",
        "length = len(string) - 1\n",
        "\n",
        "while(length >= 0):\n",
        "  reverse_string = reverse_string + string[length]\n",
        "  length = length - 1\n",
        "print(reverse_string)"
      ],
      "metadata": {
        "colab": {
          "base_uri": "https://localhost:8080/"
        },
        "id": "v5MkdGYYhL6d",
        "outputId": "0107dce4-c862-4854-db35-eff12a825427"
      },
      "execution_count": null,
      "outputs": [
        {
          "output_type": "stream",
          "name": "stdout",
          "text": [
            "jareeN\n"
          ]
        }
      ]
    },
    {
      "cell_type": "markdown",
      "source": [
        "15. Write a Python program to calculate the factorial of a number provided by the user using a while loop."
      ],
      "metadata": {
        "id": "2FJGqUGFhMZA"
      }
    },
    {
      "cell_type": "code",
      "source": [
        "number = int (input(\"Enter a number: \"))\n",
        "\n",
        "factorial = 1\n",
        "counter = number\n",
        "\n",
        "while (counter > 0):\n",
        "  factorial = factorial * counter\n",
        "  counter = counter - 1\n",
        "\n",
        "print(f\"The {number}! is {factorial}\")"
      ],
      "metadata": {
        "colab": {
          "base_uri": "https://localhost:8080/"
        },
        "id": "n8LW1vJwhPT5",
        "outputId": "6829aea1-dd53-429f-f778-2a9f55c83edf"
      },
      "execution_count": null,
      "outputs": [
        {
          "output_type": "stream",
          "name": "stdout",
          "text": [
            "Enter a number: 3\n",
            "The 3! is 6\n"
          ]
        }
      ]
    }
  ],
  "metadata": {
    "colab": {
      "provenance": []
    },
    "kernelspec": {
      "display_name": "Python 3",
      "name": "python3"
    },
    "language_info": {
      "name": "python"
    }
  },
  "nbformat": 4,
  "nbformat_minor": 0
}